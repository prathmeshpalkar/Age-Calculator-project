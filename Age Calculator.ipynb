{
 "cells": [
  {
   "cell_type": "code",
   "execution_count": 1,
   "id": "23f7b73c",
   "metadata": {},
   "outputs": [
    {
     "name": "stdout",
     "output_type": "stream",
     "text": [
      "Enter the person's age in years: 20\n",
      "Enter the desired time units (months/weeks/days/hours/minutes/seconds): months\n",
      "The person has lived for 240.0 months.\n"
     ]
    }
   ],
   "source": [
    "# Get user input\n",
    "age = float(input(\"Enter the person's age in years: \"))\n",
    "selected_units = input(\"Enter the desired time units (months/weeks/days/hours/minutes/seconds): \")\n",
    "\n",
    "# Calculate For Seconds\n",
    "total_seconds = age * 365.25 * 24 * 60 * 60\n",
    "\n",
    "# Convert To the months,Weeks,Days,Hours,Minutes,Seconds20\n",
    "if selected_units == \"months\":\n",
    "    total_units = age * 12\n",
    "elif selected_units == \"weeks\":\n",
    "    total_units = age * 365.25 / 7\n",
    "elif selected_units == \"days\":\n",
    "    total_units = age * 365.25\n",
    "elif selected_units == \"hours\":\n",
    "    total_units = age * 365.25 * 24\n",
    "elif selected_units == \"minutes\":\n",
    "    total_units = age * 365.25 * 24 * 60\n",
    "elif selected_units == \"seconds\":\n",
    "    total_units = total_seconds\n",
    "else:\n",
    "    print(\"Invalid time unit selected. Please choose from months/weeks/days/hours/minutes/seconds.\")\n",
    "    total_units = None\n",
    "\n",
    "# result\n",
    "if total_units is not None:\n",
    "    print(f\"The person has lived for {total_units} {selected_units}.\")\n"
   ]
  },
  {
   "cell_type": "code",
   "execution_count": null,
   "id": "5b1b1b53",
   "metadata": {},
   "outputs": [],
   "source": []
  },
  {
   "cell_type": "code",
   "execution_count": null,
   "id": "4e9780a0",
   "metadata": {},
   "outputs": [],
   "source": []
  }
 ],
 "metadata": {
  "kernelspec": {
   "display_name": "Python 3 (ipykernel)",
   "language": "python",
   "name": "python3"
  },
  "language_info": {
   "codemirror_mode": {
    "name": "ipython",
    "version": 3
   },
   "file_extension": ".py",
   "mimetype": "text/x-python",
   "name": "python",
   "nbconvert_exporter": "python",
   "pygments_lexer": "ipython3",
   "version": "3.11.4"
  }
 },
 "nbformat": 4,
 "nbformat_minor": 5
}
